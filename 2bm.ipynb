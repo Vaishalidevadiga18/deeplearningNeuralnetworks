{
 "cells": [
  {
   "cell_type": "code",
   "execution_count": 3,
   "id": "45704c16",
   "metadata": {},
   "outputs": [
    {
     "name": "stdout",
     "output_type": "stream",
     "text": [
      "\n",
      "--- AND Gate ---\n",
      "MLP (3 hidden layers) accuracy: 100.00%\n",
      "MLP Predictions: [0 0 0 1]\n",
      "True Labels: [0 0 0 1]\n",
      "Perceptron accuracy: 100.00%\n",
      "Perceptron Predictions: [0 0 0 1]\n",
      "True Labels: [0 0 0 1]\n",
      "\n",
      "--- OR Gate ---\n",
      "MLP (3 hidden layers) accuracy: 100.00%\n",
      "MLP Predictions: [0 1 1 1]\n",
      "True Labels: [0 1 1 1]\n",
      "Perceptron accuracy: 100.00%\n",
      "Perceptron Predictions: [0 1 1 1]\n",
      "True Labels: [0 1 1 1]\n",
      "\n",
      "--- XOR Gate ---\n",
      "MLP (3 hidden layers) accuracy: 100.00%\n",
      "MLP Predictions: [0 1 1 0]\n",
      "True Labels: [0 1 1 0]\n",
      "Perceptron accuracy: 50.00%\n",
      "Perceptron Predictions: [0 0 0 0]\n",
      "True Labels: [0 1 1 0]\n"
     ]
    }
   ],
   "source": [
    "import numpy as np\n",
    "from sklearn.linear_model import Perceptron\n",
    "from sklearn.metrics import accuracy_score\n",
    "from sklearn.neural_network import MLPClassifier\n",
    "\n",
    "data = {\n",
    "    'AND': (np.array([[0, 0], [0, 1], [1, 0], [1, 1]]), np.array([0, 0, 0, 1])),\n",
    "    'OR':  (np.array([[0, 0], [0, 1], [1, 0], [1, 1]]), np.array([0, 1, 1, 1])),\n",
    "    'XOR': (np.array([[0, 0], [0, 1], [1, 0], [1, 1]]), np.array([0, 1, 1, 0])),\n",
    "}\n",
    "\n",
    "for gate, (X, y) in data.items():\n",
    "    print(f\"\\n--- {gate} Gate ---\")\n",
    "\n",
    "    # Multi-layer perceptron with 3 hidden layers (3, 2, 3 neurons)\n",
    "    mlp = MLPClassifier(hidden_layer_sizes=(3, 2, 3), activation='tanh',\n",
    "                        solver='lbfgs', max_iter=3000, random_state=42)\n",
    "    mlp.fit(X, y)\n",
    "\n",
    "    y_pred = mlp.predict(X)\n",
    "    acc = accuracy_score(y, y_pred) * 100\n",
    "    print(f\"MLP (3 hidden layers) accuracy: {acc:.2f}%\")\n",
    "    print(f\"MLP Predictions: {y_pred}\")\n",
    "    print(f\"True Labels: {y}\")\n",
    "\n",
    "    # Single-layer perceptron\n",
    "    perceptron = Perceptron(max_iter=100, eta0=1, random_state=42)\n",
    "    perceptron.fit(X, y)\n",
    "\n",
    "    y_pred = perceptron.predict(X)\n",
    "    acc = accuracy_score(y, y_pred) * 100\n",
    "    print(f\"Perceptron accuracy: {acc:.2f}%\")\n",
    "    print(f\"Perceptron Predictions: {y_pred}\")\n",
    "    print(f\"True Labels: {y}\")\n"
   ]
  }
 ],
 "metadata": {
  "kernelspec": {
   "display_name": "base",
   "language": "python",
   "name": "python3"
  },
  "language_info": {
   "codemirror_mode": {
    "name": "ipython",
    "version": 3
   },
   "file_extension": ".py",
   "mimetype": "text/x-python",
   "name": "python",
   "nbconvert_exporter": "python",
   "pygments_lexer": "ipython3",
   "version": "3.12.7"
  }
 },
 "nbformat": 4,
 "nbformat_minor": 5
}
